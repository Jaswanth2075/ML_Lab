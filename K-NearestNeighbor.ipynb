{
 "cells": [
  {
   "cell_type": "code",
   "execution_count": 19,
   "id": "5a9417af",
   "metadata": {},
   "outputs": [],
   "source": [
    "from sklearn.model_selection import train_test_split\n",
    "from sklearn.neighbors import KNeighborsClassifier\n",
    "from sklearn import datasets\n",
    "from sklearn.metrics import classification_report , confusion_matrix"
   ]
  },
  {
   "cell_type": "code",
   "execution_count": 5,
   "id": "adea7ebb",
   "metadata": {},
   "outputs": [
    {
     "name": "stdout",
     "output_type": "stream",
     "text": [
      "Iris Dataset Loaded\n"
     ]
    }
   ],
   "source": [
    "iris= datasets.load_iris()\n",
    "print(\"Iris Dataset Loaded\")"
   ]
  },
  {
   "cell_type": "code",
   "execution_count": 7,
   "id": "f82eebc1",
   "metadata": {},
   "outputs": [
    {
     "name": "stdout",
     "output_type": "stream",
     "text": [
      "Dataset is split into trainig and testing\n",
      "Size of training data and its label (135, 4) (135,)\n",
      "Size of testing data and its label (15, 4) (15,)\n"
     ]
    }
   ],
   "source": [
    "x_train , x_test , y_train , y_test = train_test_split(iris.data , iris.target , test_size=0.1)\n",
    "print(\"Dataset is split into trainig and testing\")\n",
    "print(\"Size of training data and its label\" , x_train.shape , y_train.shape)\n",
    "print(\"Size of testing data and its label\" , x_test.shape , y_test.shape)\n"
   ]
  },
  {
   "cell_type": "code",
   "execution_count": 13,
   "id": "238f9093",
   "metadata": {},
   "outputs": [
    {
     "name": "stdout",
     "output_type": "stream",
     "text": [
      "label  0 - setosa\n",
      "label  1 - versicolor\n",
      "label  2 - virginica\n"
     ]
    }
   ],
   "source": [
    "for i in range(len(iris.target_names)):\n",
    "    print(\"label \",i , \"-\" , str(iris.target_names[i]))\n",
    "classifier= KNeighborsClassifier(n_neighbors=1)"
   ]
  },
  {
   "cell_type": "code",
   "execution_count": 14,
   "id": "1f404af0",
   "metadata": {},
   "outputs": [],
   "source": [
    "classifier.fit(x_train , y_train)\n",
    "y_pred= classifier.predict(x_test)"
   ]
  },
  {
   "cell_type": "code",
   "execution_count": 16,
   "id": "a92e138a",
   "metadata": {
    "scrolled": true
   },
   "outputs": [
    {
     "name": "stdout",
     "output_type": "stream",
     "text": [
      "Results of classification using knn with k=1\n",
      "sample  [5.5 2.4 3.8 1.1] Actual-label: 1 Predicited_label 1\n",
      "sample  [6.4 3.2 5.3 2.3] Actual-label: 2 Predicited_label 2\n",
      "sample  [6.1 2.8 4.7 1.2] Actual-label: 1 Predicited_label 1\n",
      "sample  [5.  3.2 1.2 0.2] Actual-label: 0 Predicited_label 0\n",
      "sample  [6.7 3.1 4.4 1.4] Actual-label: 1 Predicited_label 1\n",
      "sample  [4.8 3.4 1.6 0.2] Actual-label: 0 Predicited_label 0\n",
      "sample  [5.  3.4 1.5 0.2] Actual-label: 0 Predicited_label 0\n",
      "sample  [5.  3.5 1.6 0.6] Actual-label: 0 Predicited_label 0\n",
      "sample  [5.8 2.7 5.1 1.9] Actual-label: 2 Predicited_label 2\n",
      "sample  [5.1 3.8 1.6 0.2] Actual-label: 0 Predicited_label 0\n",
      "sample  [5.1 3.8 1.5 0.3] Actual-label: 0 Predicited_label 0\n",
      "sample  [5.  3.4 1.6 0.4] Actual-label: 0 Predicited_label 0\n",
      "sample  [6.5 3.  5.8 2.2] Actual-label: 2 Predicited_label 2\n",
      "sample  [6.2 3.4 5.4 2.3] Actual-label: 2 Predicited_label 2\n",
      "sample  [6.5 2.8 4.6 1.5] Actual-label: 1 Predicited_label 1\n"
     ]
    }
   ],
   "source": [
    "print(\"Results of classification using knn with k=1\")\n",
    "for r in range(0,len(x_test)):\n",
    "    print(\"sample \", str(x_test[r]) , \"Actual-label:\", str(y_test[r]) , \"Predicited_label\" , str(y_pred[r]))    "
   ]
  },
  {
   "cell_type": "code",
   "execution_count": 17,
   "id": "d19a2f21",
   "metadata": {},
   "outputs": [
    {
     "name": "stdout",
     "output_type": "stream",
     "text": [
      "classification accuracy : 1.0\n"
     ]
    }
   ],
   "source": [
    "print(\"classification accuracy :\" , classifier.score(x_test,y_test))"
   ]
  },
  {
   "cell_type": "code",
   "execution_count": 21,
   "id": "b9dc8967",
   "metadata": {},
   "outputs": [
    {
     "name": "stdout",
     "output_type": "stream",
     "text": [
      "confusion matrix\n",
      "[[7 0 0]\n",
      " [0 4 0]\n",
      " [0 0 4]]\n"
     ]
    }
   ],
   "source": [
    "print(\"confusion matrix\")\n",
    "print(confusion_matrix(y_test , y_pred))"
   ]
  },
  {
   "cell_type": "code",
   "execution_count": 22,
   "id": "a0ca9b46",
   "metadata": {},
   "outputs": [
    {
     "name": "stdout",
     "output_type": "stream",
     "text": [
      "acuuracy_metrix\n",
      "              precision    recall  f1-score   support\n",
      "\n",
      "           0       1.00      1.00      1.00         7\n",
      "           1       1.00      1.00      1.00         4\n",
      "           2       1.00      1.00      1.00         4\n",
      "\n",
      "    accuracy                           1.00        15\n",
      "   macro avg       1.00      1.00      1.00        15\n",
      "weighted avg       1.00      1.00      1.00        15\n",
      "\n"
     ]
    }
   ],
   "source": [
    "print(\"acuuracy_metrix\")\n",
    "print(classification_report(y_test , y_pred))"
   ]
  }
 ],
 "metadata": {
  "kernelspec": {
   "display_name": "Python 3 (ipykernel)",
   "language": "python",
   "name": "python3"
  },
  "language_info": {
   "codemirror_mode": {
    "name": "ipython",
    "version": 3
   },
   "file_extension": ".py",
   "mimetype": "text/x-python",
   "name": "python",
   "nbconvert_exporter": "python",
   "pygments_lexer": "ipython3",
   "version": "3.11.3"
  }
 },
 "nbformat": 4,
 "nbformat_minor": 5
}
